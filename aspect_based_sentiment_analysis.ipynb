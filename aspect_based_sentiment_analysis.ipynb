{
  "nbformat": 4,
  "nbformat_minor": 0,
  "metadata": {
    "colab": {
      "provenance": []
    },
    "kernelspec": {
      "name": "python3",
      "display_name": "Python 3"
    },
    "language_info": {
      "name": "python"
    }
  },
  "cells": [
    {
      "cell_type": "code",
      "source": [
        "%%capture\n",
        "!pip install transformers[sentencepiece]"
      ],
      "metadata": {
        "colab": {
          "base_uri": "https://localhost:8080/",
          "height": 17
        },
        "id": "tmbkwP50xPB9",
        "outputId": "3b8a9f6a-4b3c-4549-f05f-6196dfa15929"
      },
      "execution_count": 12,
      "outputs": [
        {
          "output_type": "display_data",
          "data": {
            "text/plain": [
              "<IPython.core.display.HTML object>"
            ],
            "text/html": [
              "\n",
              "  <style>\n",
              "    pre {\n",
              "        white-space: pre-wrap;\n",
              "    }\n",
              "  </style>\n",
              "  "
            ]
          },
          "metadata": {}
        }
      ]
    },
    {
      "cell_type": "code",
      "source": [
        "from transformers import AutoTokenizer, AutoModelForSequenceClassification\n",
        "import torch.nn.functional as F\n",
        "from transformers import pipeline"
      ],
      "metadata": {
        "colab": {
          "base_uri": "https://localhost:8080/",
          "height": 17
        },
        "id": "_1xq0dHt5kJh",
        "outputId": "de619ba3-4cee-4a6c-c1ac-0134dba3a413"
      },
      "execution_count": 13,
      "outputs": [
        {
          "output_type": "display_data",
          "data": {
            "text/plain": [
              "<IPython.core.display.HTML object>"
            ],
            "text/html": [
              "\n",
              "  <style>\n",
              "    pre {\n",
              "        white-space: pre-wrap;\n",
              "    }\n",
              "  </style>\n",
              "  "
            ]
          },
          "metadata": {}
        }
      ]
    },
    {
      "cell_type": "code",
      "source": [
        "# loading aspect-based sentiment analysis model\n",
        "absa_tokenizer = AutoTokenizer.from_pretrained(\"yangheng/deberta-v3-base-absa-v1.1\")\n",
        "absa_model = AutoModelForSequenceClassification \\\n",
        "  .from_pretrained(\"yangheng/deberta-v3-base-absa-v1.1\")\n",
        "\n",
        "#loading model from huggingface\n",
        "sentiment_model_path = \"cardiffnlp/twitter-roberta-base-sentiment-latest\"\n",
        "sentiment_model = pipeline(\"sentiment-analysis\", model=sentiment_model_path,\n",
        "                          tokenizer=sentiment_model_path)\n"
      ],
      "metadata": {
        "id": "EyFlXJICxY-7"
      },
      "execution_count": null,
      "outputs": []
    },
    {
      "cell_type": "code",
      "source": [
        "def absa_sentiment(sentence : str, aspect1 : str, aspect2 : str):\n",
        "  print(f\"Sentence : {sentence}\")\n",
        "  print()\n",
        "  labels = [\"negative\", \"neutral\", \"positive\"]\n",
        "\n",
        "  inputs = absa_tokenizer(f\"[CLS] {sentence} [SEP] {aspect1} [SEP]\",return_tensors=\"pt\")\n",
        "  outputs = absa_model(**inputs)\n",
        "  probs = F.softmax(outputs.logits, dim=1).detach().numpy()[0]\n",
        "  print(f\"Sentiment of aspect '{aspect1}' is : \")\n",
        "  max_prob_index = probs.argmax()\n",
        "  max_label = labels[max_prob_index]\n",
        "  max_prob = probs[max_prob_index]\n",
        "  print(f\"Label {max_label}: {max_prob:.4f}\")\n",
        "  print()\n",
        "\n",
        "  inputs = absa_tokenizer(f\"[CLS] {sentence} [SEP] {aspect2} [SEP]\", return_tensors=\"pt\")\n",
        "  outputs = absa_model(**inputs)\n",
        "  probs = F.softmax(outputs.logits, dim=1)\n",
        "  probs = probs.detach().numpy()[0]\n",
        "  print(f\"Sentiment of aspect '{aspect2}' is : \")\n",
        "  max_prob_index = probs.argmax()\n",
        "  max_label = labels[max_prob_index]\n",
        "  max_prob = probs[max_prob_index]\n",
        "  print(f\"Label {max_label}: {max_prob:.4f}\")\n",
        "  print()\n",
        "\n",
        "  sentiment = sentiment_model([sentence])[0]\n",
        "  print(f\"Overall sentiment: {sentiment['label']} with score {sentiment['score']}\")"
      ],
      "metadata": {
        "colab": {
          "base_uri": "https://localhost:8080/",
          "height": 17
        },
        "id": "CYhs4WPQ8Ljl",
        "outputId": "218a8389-fd9b-41dd-c1bf-1246d05eea5a"
      },
      "execution_count": 34,
      "outputs": [
        {
          "output_type": "display_data",
          "data": {
            "text/plain": [
              "<IPython.core.display.HTML object>"
            ],
            "text/html": [
              "\n",
              "  <style>\n",
              "    pre {\n",
              "        white-space: pre-wrap;\n",
              "    }\n",
              "  </style>\n",
              "  "
            ]
          },
          "metadata": {}
        }
      ]
    },
    {
      "cell_type": "code",
      "source": [
        "sentence = \"The company's pricing strategy is commendable, offering excellent value for money. Their competitive rates and transparent fee structure make their products accessible to a wide range of customers without compromising on quality. However, the execution of their services leaves much to be desired. Delivery times are consistently longer than promised, customer support is frustratingly unresponsive, and the product often arrives in a condition that suggests careless handling during shipping. While the price point is attractive, the subpar execution significantly diminishes the overall customer experience, making one question whether the savings are worth the headache.\"\n",
        "\n",
        "aspect1 = \"pricing\"\n",
        "aspect2 = \"execution\"\n",
        "absa_sentiment(sentence, aspect1, aspect2)"
      ],
      "metadata": {
        "id": "pq6aPONayh18",
        "colab": {
          "base_uri": "https://localhost:8080/",
          "height": 247
        },
        "outputId": "188e80d1-173b-4ba7-a485-1bd36418c27f"
      },
      "execution_count": 35,
      "outputs": [
        {
          "output_type": "display_data",
          "data": {
            "text/plain": [
              "<IPython.core.display.HTML object>"
            ],
            "text/html": [
              "\n",
              "  <style>\n",
              "    pre {\n",
              "        white-space: pre-wrap;\n",
              "    }\n",
              "  </style>\n",
              "  "
            ]
          },
          "metadata": {}
        },
        {
          "output_type": "stream",
          "name": "stdout",
          "text": [
            "Sentence : The company's pricing strategy is commendable, offering excellent value for money. Their competitive rates and transparent fee structure make their products accessible to a wide range of customers without compromising on quality. However, the execution of their services leaves much to be desired. Delivery times are consistently longer than promised, customer support is frustratingly unresponsive, and the product often arrives in a condition that suggests careless handling during shipping. While the price point is attractive, the subpar execution significantly diminishes the overall customer experience, making one question whether the savings are worth the headache.\n",
            "\n",
            "Sentiment of aspect 'pricing' is : \n",
            "Label positive: 0.9530\n",
            "\n",
            "Sentiment of aspect 'execution' is : \n",
            "Label negative: 0.9809\n",
            "\n",
            "Overall sentiment: positive with score 0.6510158777236938\n"
          ]
        }
      ]
    },
    {
      "cell_type": "code",
      "source": [],
      "metadata": {
        "id": "OiVEh8to3dOv"
      },
      "execution_count": null,
      "outputs": []
    }
  ]
}